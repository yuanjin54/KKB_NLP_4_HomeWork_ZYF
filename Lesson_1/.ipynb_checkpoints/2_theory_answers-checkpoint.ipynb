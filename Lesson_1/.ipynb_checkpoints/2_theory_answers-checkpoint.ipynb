{
 "cells": [
  {
   "cell_type": "markdown",
   "metadata": {},
   "source": [
    "## 基础理论部分"
   ]
  },
  {
   "cell_type": "markdown",
   "metadata": {},
   "source": [
    "\n",
    "#### 0. Can you come up out 3 sceneraies which use AI methods? "
   ]
  },
  {
   "cell_type": "markdown",
   "metadata": {},
   "source": [
    "   - 智能客服（知识图谱，可能还有一些文字生成和语言模型\n",
    "   -  智能音箱（语音识别和合成\n",
    "   - 语音电话推销客服\n",
    "   - 推荐算法\n",
    "   - 和硬件结合的相机优化\n",
    "   - 美照片美颜，视频美颜、换脸，还有无耻的Deepnude\n",
    "   - 智能生成视频和图片\n",
    "   - 基于基因的疾病预测\n",
    "   - 或许AI和脑机结合也是一个方向"
   ]
  },
  {
   "cell_type": "markdown",
   "metadata": {},
   "source": [
    "#### 1. How do we use Github; Why do we use Jupyter and Pycharm;"
   ]
  },
  {
   "cell_type": "markdown",
   "metadata": {},
   "source": [
    "目前GitHub用的较多的就是代码的上传下载，文件分享；\n",
    "\n",
    "Jupyter的话我觉得可视化比较好，而且链接paddle或者google的强大计算服务器处理大型的计算任务会方便，网页端自带的编辑器\n",
    "\n",
    "Pycharm用来跑大型的项目，比方自己写Python的文件和tools一些组件互相引用起来就很简洁"
   ]
  },
  {
   "cell_type": "markdown",
   "metadata": {},
   "source": [
    "#### 2. What's the Probability Model?"
   ]
  },
  {
   "cell_type": "markdown",
   "metadata": {},
   "source": [
    "是由样本空间、样本空间内的事件和相关程度决定的随机现象的数学表示\n"
   ]
  },
  {
   "cell_type": "markdown",
   "metadata": {},
   "source": [
    "#### 3. Can you came up with some sceneraies at which we could use Probability Model?"
   ]
  },
  {
   "cell_type": "markdown",
   "metadata": {},
   "source": [
    "对于用户行为的预测，语义分析，天气预测？我的理解就是大概率要发生的，但是不会确定的一些事件吧"
   ]
  },
  {
   "cell_type": "markdown",
   "metadata": {},
   "source": [
    "#### 4. Why do we use probability and what's the difficult points for programming based on parsing and pattern match?"
   ]
  },
  {
   "cell_type": "markdown",
   "metadata": {},
   "source": [
    "- 通过第一节课高老师的讲解我觉得使用概率来解决这些问题的原因是，我们要生成人类看起来比较合理的语言，所以要基于现有的符合规则的文字串来判断生成的语言是不是”看起来比较正常“，正常与否不是一个是非命题，更贴近一个程度判断，所以说用概率来做比较合适吧？\n",
    "- 基于parsing和pattern match 的编程难点还没有体会得到。"
   ]
  },
  {
   "cell_type": "markdown",
   "metadata": {},
   "source": [
    "#### 5.  What's the Language Model"
   ]
  },
  {
   "cell_type": "raw",
   "metadata": {},
   "source": [
    "是一种概率分布模型，对里面的每一个字符串都能给出一个概率。应该属于一种” Generative Mode“，追求数据的本质。"
   ]
  },
  {
   "cell_type": "markdown",
   "metadata": {},
   "source": [
    "#### 6. Can you came up with some sceneraies at which we could use Language Model?"
   ]
  },
  {
   "cell_type": "markdown",
   "metadata": {},
   "source": [
    "- 垃圾邮件过滤\n",
    "- 搜索的话应该也可以用得到\n",
    "- 或者是给文章打标签，比方说它属于什么类别\n",
    "- 机器翻译\n",
    "- 输入自动纠正"
   ]
  },
  {
   "cell_type": "markdown",
   "metadata": {},
   "source": [
    "####  7. What's the 1-gram language model"
   ]
  },
  {
   "cell_type": "markdown",
   "metadata": {},
   "source": [
    "1-gram 的概念起源于 N-gram model，基本思想是把文本按照字节大小为N的循环/递归？操作，每一个N大小的片段成为gram，对所有gram进行频度的统计，然后过滤形成gram列表，也就是这一个文本的向量特征空间。（课上老师把文本jieba分词之后统计的产物），列表中每一个gram都是一个特征向量维度。\n",
    "\n",
    "所以1-gram language model就是片段长度为1的N-Gram model。"
   ]
  },
  {
   "cell_type": "markdown",
   "metadata": {},
   "source": [
    "#### 8. What's the disadvantages and advantages of 1-gram language model;"
   ]
  },
  {
   "cell_type": "markdown",
   "metadata": {},
   "source": [
    "在语料库里面的频率高，训练起来精度更高相对可靠，但是约束少\n",
    "\n",
    "如果N的话约束力更高，从而对于句子的辨别力高，但是训练的资源少"
   ]
  },
  {
   "cell_type": "markdown",
   "metadata": {},
   "source": [
    "#### 9. What't the 2-gram models"
   ]
  },
  {
   "cell_type": "markdown",
   "metadata": {},
   "source": [
    "就是N=2的 N-Gram model，不知道怎么解释了"
   ]
  }
 ],
 "metadata": {
  "kernelspec": {
   "display_name": "Python 3",
   "language": "python",
   "name": "python3"
  },
  "language_info": {
   "codemirror_mode": {
    "name": "ipython",
    "version": 3
   },
   "file_extension": ".py",
   "mimetype": "text/x-python",
   "name": "python",
   "nbconvert_exporter": "python",
   "pygments_lexer": "ipython3",
   "version": "3.7.3"
  },
  "latex_envs": {
   "LaTeX_envs_menu_present": true,
   "autoclose": false,
   "autocomplete": true,
   "bibliofile": "biblio.bib",
   "cite_by": "apalike",
   "current_citInitial": 1,
   "eqLabelWithNumbers": true,
   "eqNumInitial": 1,
   "hotkeys": {
    "equation": "Ctrl-E",
    "itemize": "Ctrl-I"
   },
   "labels_anchors": false,
   "latex_user_defs": false,
   "report_style_numbering": false,
   "user_envs_cfg": false
  }
 },
 "nbformat": 4,
 "nbformat_minor": 2
}
